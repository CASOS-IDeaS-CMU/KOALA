{
 "cells": [
  {
   "cell_type": "code",
   "execution_count": 2,
   "metadata": {},
   "outputs": [
    {
     "data": {
      "text/plain": [
       "200"
      ]
     },
     "execution_count": 2,
     "metadata": {},
     "output_type": "execute_result"
    }
   ],
   "source": [
    "import json\n",
    "\n",
    "labels_reviewer1 = json.load(open('segsub_data_labelled_reviewer1.json'))\n",
    "labels_reviewer2 = json.load(open('segsub_data_labelled_reviewer2.json'))\n",
    "\n",
    "labels_reviewer1 = {entry[\"dataset\"] + str(entry[\"id\"]): entry for entry in labels_reviewer1}\n",
    "labels_reviewer2 = {entry[\"dataset\"] + str(entry[\"id\"]): entry for entry in labels_reviewer2}\n",
    "\n",
    "overlap = list(set(labels_reviewer1.keys()) & set(labels_reviewer2.keys()))\n",
    "len(overlap)"
   ]
  },
  {
   "cell_type": "code",
   "execution_count": 7,
   "metadata": {},
   "outputs": [
    {
     "name": "stdout",
     "output_type": "stream",
     "text": [
      "Agreement rate:  0.8979591836734694\n"
     ]
    }
   ],
   "source": [
    "pairwise_labels = [(reviewer1_entry[\"label\"], reviewer2_entry[\"label\"]) for reviewer1_entry, reviewer2_entry in zip([labels_reviewer1[key] for key in overlap], [labels_reviewer2[key] for key in overlap]) if \"label\" in reviewer1_entry and \"label\" in reviewer2_entry]\n",
    "agreements = [1 if reviewer1_label == reviewer2_label else 0 for reviewer1_label, reviewer2_label in pairwise_labels]\n",
    "print(\"Agreement rate: \", sum(agreements) / float(len(agreements)))"
   ]
  },
  {
   "cell_type": "code",
   "execution_count": 10,
   "metadata": {},
   "outputs": [
    {
     "data": {
      "text/plain": [
       "0.4471086036671369"
      ]
     },
     "execution_count": 10,
     "metadata": {},
     "output_type": "execute_result"
    }
   ],
   "source": [
    "# calculate cohens kappa\n",
    "from sklearn.metrics import cohen_kappa_score\n",
    "cohen_kappa_score([int(reviewer1_label) for reviewer1_label, _ in pairwise_labels], [int(reviewer2_label) for _, reviewer2_label in pairwise_labels])"
   ]
  },
  {
   "cell_type": "code",
   "execution_count": 11,
   "metadata": {},
   "outputs": [
    {
     "data": {
      "text/plain": [
       "array([[ 10,  15],\n",
       "       [  5, 166]])"
      ]
     },
     "execution_count": 11,
     "metadata": {},
     "output_type": "execute_result"
    }
   ],
   "source": [
    "# compute cohens kappa with a different implementation\n",
    "from sklearn.metrics import confusion_matrix\n",
    "confusion_matrix([int(reviewer1_label) for reviewer1_label, _ in pairwise_labels], [int(reviewer2_label) for _, reviewer2_label in pairwise_labels])"
   ]
  },
  {
   "cell_type": "code",
   "execution_count": 12,
   "metadata": {},
   "outputs": [
    {
     "name": "stdout",
     "output_type": "stream",
     "text": [
      "webqaperturbed 0.76\n",
      "webqaconflicting 0.8181818181818182\n",
      "webqacounterfactual 0.87\n",
      "vqacounterfactual 0.92\n",
      "okvqacounterfactual 0.9270833333333334\n"
     ]
    }
   ],
   "source": [
    "# reviewer2 label accuracy per dataset and type\n",
    "from collections import defaultdict\n",
    "dataset_type_accuracies = defaultdict(list)\n",
    "\n",
    "for entry in labels_reviewer2.values():\n",
    "    if not \"label\" in entry:\n",
    "        continue\n",
    "    \n",
    "    dataset_type_accuracies[entry[\"dataset\"] + entry[\"type\"]].append(entry[\"label\"])\n",
    "    \n",
    "for key, labels in dataset_type_accuracies.items():\n",
    "    print(key, sum(labels) / len(labels))"
   ]
  },
  {
   "cell_type": "code",
   "execution_count": 13,
   "metadata": {},
   "outputs": [
    {
     "name": "stdout",
     "output_type": "stream",
     "text": [
      "vqacounterfactual 0.87\n",
      "okvqacounterfactual 0.87\n"
     ]
    }
   ],
   "source": [
    "# reviewer2 label accuracy per dataset and type\n",
    "from collections import defaultdict\n",
    "dataset_type_accuracies = defaultdict(list)\n",
    "\n",
    "for entry in labels_reviewer1.values():\n",
    "    if not \"label\" in entry:\n",
    "        continue\n",
    "    \n",
    "    dataset_type_accuracies[entry[\"dataset\"] + entry[\"type\"]].append(entry[\"label\"])\n",
    "    \n",
    "for key, labels in dataset_type_accuracies.items():\n",
    "    print(key, sum(labels) / len(labels))"
   ]
  }
 ],
 "metadata": {
  "kernelspec": {
   "display_name": "base",
   "language": "python",
   "name": "python3"
  },
  "language_info": {
   "codemirror_mode": {
    "name": "ipython",
    "version": 3
   },
   "file_extension": ".py",
   "mimetype": "text/x-python",
   "name": "python",
   "nbconvert_exporter": "python",
   "pygments_lexer": "ipython3",
   "version": "undefined.undefined.undefined"
  }
 },
 "nbformat": 4,
 "nbformat_minor": 2
}
