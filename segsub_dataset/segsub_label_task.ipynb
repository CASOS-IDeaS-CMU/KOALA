{
 "cells": [
  {
   "cell_type": "code",
   "execution_count": 1,
   "metadata": {},
   "outputs": [
    {
     "ename": "ModuleNotFoundError",
     "evalue": "No module named 'vlm_evaluation'",
     "output_type": "error",
     "traceback": [
      "\u001b[0;31m---------------------------------------------------------------------------\u001b[0m",
      "\u001b[0;31mModuleNotFoundError\u001b[0m                       Traceback (most recent call last)",
      "Cell \u001b[0;32mIn[1], line 6\u001b[0m\n\u001b[1;32m      4\u001b[0m \u001b[38;5;28;01mimport\u001b[39;00m \u001b[38;5;21;01msys\u001b[39;00m\n\u001b[1;32m      5\u001b[0m sys\u001b[38;5;241m.\u001b[39mpath\u001b[38;5;241m.\u001b[39mappend(ROOT_DIR)\n\u001b[0;32m----> 6\u001b[0m \u001b[38;5;28;01mfrom\u001b[39;00m \u001b[38;5;21;01mvlm_evaluation\u001b[39;00m\u001b[38;5;21;01m.\u001b[39;00m\u001b[38;5;21;01meval_utils\u001b[39;00m \u001b[38;5;28;01mimport\u001b[39;00m \u001b[38;5;241m*\u001b[39m\n\u001b[1;32m      7\u001b[0m \u001b[38;5;28;01mfrom\u001b[39;00m \u001b[38;5;21;01mmatplotlib\u001b[39;00m \u001b[38;5;28;01mimport\u001b[39;00m pyplot \u001b[38;5;28;01mas\u001b[39;00m plt\n\u001b[1;32m      9\u001b[0m segsub_sample_data \u001b[38;5;241m=\u001b[39m json\u001b[38;5;241m.\u001b[39mload(\u001b[38;5;28mopen\u001b[39m(\u001b[38;5;124mf\u001b[39m\u001b[38;5;124m\"\u001b[39m\u001b[38;5;132;01m{\u001b[39;00mROOT_DIR\u001b[38;5;132;01m}\u001b[39;00m\u001b[38;5;124m/segsub_data/segsub_data_labelling_sample.json\u001b[39m\u001b[38;5;124m\"\u001b[39m, \u001b[38;5;124m\"\u001b[39m\u001b[38;5;124mr\u001b[39m\u001b[38;5;124m\"\u001b[39m))\n",
      "\u001b[0;31mModuleNotFoundError\u001b[0m: No module named 'vlm_evaluation'"
     ]
    }
   ],
   "source": [
    "import json\n",
    "import os\n",
    "ROOT_DIR = os.getenv(\"ROOT_DIR\")\n",
    "import sys\n",
    "sys.path.append(ROOT_DIR)\n",
    "from vlm_evaluation.eval_utils import *\n",
    "from matplotlib import pyplot as plt\n",
    "\n",
    "segsub_sample_data = json.load(open(f\"{ROOT_DIR}/segsub_data/segsub_data_labelling_sample.json\", \"r\"))\n",
    "webqa_image_directory = f\"{ROOT_DIR}/data/webqa-images/images/\"\n",
    "segsub_directory = f\"{ROOT_DIR}/segsub_data/segsub_images/\"\n",
    "\n",
    "for idx in range(len(segsub_sample_data)):\n",
    "    sample = segsub_sample_data[idx]\n",
    "    if 'label' in sample:\n",
    "        continue\n",
    "    question = sample[\"conversations\"][0][\"value\"].split(\"\\nQ: \")[-1]\n",
    "    print(f\"Question: {question}\")\n",
    "    answer = sample[\"conversations\"][1][\"value\"]\n",
    "    print(f\"Answer: {answer}\")\n",
    "    for img_path in sample[\"image\"]:\n",
    "        # if img_path is int\n",
    "        if isinstance(img_path, int):\n",
    "            path = f\"{webqa_image_directory}/{img_path}.jpg\"\n",
    "        else:\n",
    "            path = f\"{segsub_directory}/{img_path}\"\n",
    "        # plt.imshow(plt.imread(path), axis='off')\n",
    "    label = input('Label for sample {}: '.format(sample['id']))\n",
    "    sample['label'] = label\n",
    "    segsub_sample_data[idx] = sample\n",
    "    with open('../segsub_data/segsub_data_labelling_sample.json', 'w') as f:\n",
    "        json.dump(segsub_sample_data, f)\n"
   ]
  }
 ],
 "metadata": {
  "kernelspec": {
   "display_name": "base",
   "language": "python",
   "name": "python3"
  },
  "language_info": {
   "codemirror_mode": {
    "name": "ipython",
    "version": 3
   },
   "file_extension": ".py",
   "mimetype": "text/x-python",
   "name": "python",
   "nbconvert_exporter": "python",
   "pygments_lexer": "ipython3",
   "version": "3.11.4"
  }
 },
 "nbformat": 4,
 "nbformat_minor": 2
}
